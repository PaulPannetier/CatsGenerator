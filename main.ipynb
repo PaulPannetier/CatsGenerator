{
 "cells": [
  {
   "cell_type": "code",
   "execution_count": 1,
   "metadata": {},
   "outputs": [],
   "source": [
    "import numpy as np\n",
    "import neurolab as nl\n",
    "import os\n",
    "from PIL import Image\n",
    "import matplotlib.pyplot as plt"
   ]
  },
  {
   "cell_type": "code",
   "execution_count": 13,
   "metadata": {},
   "outputs": [
    {
     "name": "stdout",
     "output_type": "stream",
     "text": [
      "nb Input : 768\n",
      "nb Output : 768\n",
      "nb Layers : 10\n"
     ]
    }
   ],
   "source": [
    "def CreateNeuralNetwork(nbInput:int, nbOutput:int, inputRange, nbLayers:int, nbNeuronsPerLayer):\n",
    "    inputDescription = []\n",
    "    for i in range(0, nbInputs):\n",
    "        inputDescription.append(inputRange[i])\n",
    "\n",
    "    layersDescription = []\n",
    "    for i in range(0, nbLayers - 1):\n",
    "        layersDescription.append(int(nbNeuronsPerLayers[i]))\n",
    "\n",
    "    layersDescription.append(nbOutputs)\n",
    "    return nl.net.newff(inputDescription, layersDescription)\n",
    "\n",
    "#neural network Stats\n",
    "imageSize = np.array([16, 16])\n",
    "nbInputs = imageSize[0] * imageSize[1] * 3\n",
    "nbOutputs = imageSize[0] * imageSize[1] * 3\n",
    "nbLayers = 10\n",
    "inputRange = [[0, 1] for i in range(0, nbInputs)]\n",
    "nbNeuronsPerLayers = np.ones(nbLayers) * 15\n",
    "\n",
    "net = CreateNeuralNetwork(nbInputs, nbOutputs, inputRange, nbLayers, nbNeuronsPerLayers)\n",
    "print(\"nb Input : \" + str(net.ci))\n",
    "print(\"nb Output : \" + str(net.co))\n",
    "print(\"nb Layers : \" + str(len(net.layers)))"
   ]
  },
  {
   "cell_type": "code",
   "execution_count": 5,
   "metadata": {},
   "outputs": [],
   "source": [
    "def Zeros(size:int):\n",
    "    return [0 for i in range(0, size)]\n",
    "\n",
    "class Dataset:\n",
    "    def __init__(self, data, target):\n",
    "        self.data = data\n",
    "        self.target = target\n",
    "\n",
    "def LoadDataSet(inputImagesDirectory:str, targetImagesDirectory:str,  nbMaxImages:int = -1):\n",
    "    files = [f for f in os.listdir(inputImagesDirectory) if os.path.isfile(inputImagesDirectory + \"/\" + f) and f.endswith(\".jpg\")]\n",
    "    if(nbMaxImages >= 1 and len(files) > nbMaxImages):\n",
    "        files = files[0:nbMaxImages]\n",
    "    images = [Image.open(inputImagesDirectory + imageName) for imageName in files]\n",
    "\n",
    "    inputData = []\n",
    "    for image in images:\n",
    "        tmp = []\n",
    "        for i in range(0, image.size[0]):\n",
    "            for j in range(image.size[1]):\n",
    "                pixel = image.getpixel((i, j))\n",
    "                tmp.append(pixel[0] / 255)\n",
    "                tmp.append(pixel[1] / 255)\n",
    "                tmp.append(pixel[2] / 255)\n",
    "\n",
    "        inputData.append(tmp)\n",
    "\n",
    "    files = [f for f in os.listdir(targetImagesDirectory) if os.path.isfile(targetImagesDirectory + \"/\" + f) and f.endswith(\".jpg\")]\n",
    "    if(nbMaxImages >= 1 and len(files) > nbMaxImages):\n",
    "        files = files[0:nbMaxImages]\n",
    "    images = [Image.open(inputImagesDirectory + imageName) for imageName in files]\n",
    "    outputData = []\n",
    "    for image in images:\n",
    "        tmp = []\n",
    "        for i in range(0, image.size[0]):\n",
    "            for j in range(image.size[1]):\n",
    "                pixel = image.getpixel((i, j))\n",
    "                tmp.append(pixel[0] / 255)\n",
    "                tmp.append(pixel[1] / 255)\n",
    "                tmp.append(pixel[2] / 255)\n",
    "\n",
    "        outputData.append(tmp)\n",
    "\n",
    "    return Dataset(inputData, outputData)\n",
    "    \n",
    "dataSet = LoadDataSet(\"Cats/noisy_16/88%/\", \"Cats/pixellized_16/\", 10)"
   ]
  },
  {
   "cell_type": "code",
   "execution_count": 6,
   "metadata": {},
   "outputs": [],
   "source": [
    "def PlotError(err):\n",
    "    plt.figure()\n",
    "    plt.plot(err)\n",
    "    plt.xlabel('Number of epochs')\n",
    "    plt.ylabel('Training error')\n",
    "    plt.grid()\n",
    "    plt.show()"
   ]
  },
  {
   "cell_type": "code",
   "execution_count": 7,
   "metadata": {},
   "outputs": [
    {
     "ename": "SyntaxError",
     "evalue": "'return' outside function (3816193442.py, line 4)",
     "output_type": "error",
     "traceback": [
      "\u001b[1;36m  Input \u001b[1;32mIn [7]\u001b[1;36m\u001b[0m\n\u001b[1;33m    return\u001b[0m\n\u001b[1;37m    ^\u001b[0m\n\u001b[1;31mSyntaxError\u001b[0m\u001b[1;31m:\u001b[0m 'return' outside function\n"
     ]
    }
   ],
   "source": [
    "#test\n",
    "#net pour trouver l'équation 2*x² + 8\n",
    "\n",
    "min_val = -30\n",
    "max_val = 30\n",
    "num_points = 150\n",
    "x = np.linspace(min_val, max_val, num_points)\n",
    "y = 2 * np.square(x) + 8\n",
    "y /= np.linalg.norm(y)\n",
    "\n",
    "data = x.reshape(num_points, 1)\n",
    "labels = y.reshape(num_points, 1)\n",
    "\n",
    "plt.figure()\n",
    "plt.scatter(data, labels)\n",
    "plt.xlabel('Dimension 1')\n",
    "plt.ylabel('Dimension 2')\n",
    "plt.title('Data-points')\n",
    "\n",
    "#Now, build the neural network having two hidden layers with neurolab with ten neurons in the first hidden layer, six in the second hidden layer and one in the output layer.\n",
    "neural_net = nl.net.newff([[min_val, max_val]], [10, 6, 1])\n",
    "\n",
    "#using the gradient training algorithm −\n",
    "neural_net.trainf = nl.train.train_gd\n",
    "\n",
    "#train!\n",
    "error = neural_net.train(data, labels, epochs = 1000, show = 100, goal = 0.01)\n",
    "\n",
    "output = neural_net.sim(data)\n",
    "y_pred = output.reshape(num_points)\n",
    "\n",
    "plt.figure()\n",
    "plt.plot(error)\n",
    "plt.xlabel('Number of epochs')\n",
    "plt.ylabel('Error')\n",
    "plt.title('Training error progress')\n",
    "\n",
    "\n",
    "x_dense = np.linspace(min_val, max_val, num_points * 2)\n",
    "y_dense_pred = neural_net.sim(x_dense.reshape(x_dense.size,1)).reshape(x_dense.size)\n",
    "plt.figure()\n",
    "plt.plot(x_dense, y_dense_pred, '-', x, y, '.', x, y_pred, 'p')\n",
    "plt.title('Actual vs predicted')\n",
    "plt.show()\n"
   ]
  },
  {
   "cell_type": "code",
   "execution_count": 12,
   "metadata": {},
   "outputs": [
    {
     "ename": "MemoryError",
     "evalue": "Unable to allocate 35.2 GiB for an array with shape (97167, 97167) and data type int32",
     "output_type": "error",
     "traceback": [
      "\u001b[1;31m---------------------------------------------------------------------------\u001b[0m",
      "\u001b[1;31mMemoryError\u001b[0m                               Traceback (most recent call last)",
      "\u001b[1;32md:\\Users\\Desktop\\im_a_folder\\Perso\\Prog\\C#\\CatGenerator\\main.ipynb Cell 6\u001b[0m in \u001b[0;36m<module>\u001b[1;34m\u001b[0m\n\u001b[0;32m      <a href='vscode-notebook-cell:/d%3A/Users/Desktop/im_a_folder/Perso/Prog/C%23/CatGenerator/main.ipynb#W5sZmlsZQ%3D%3D?line=1'>2</a>\u001b[0m     \u001b[39mreturn\u001b[39;00m net\u001b[39m.\u001b[39mtrain(dataSet\u001b[39m.\u001b[39mdata, dataSet\u001b[39m.\u001b[39mtarget,epochs \u001b[39m=\u001b[39m \u001b[39m500\u001b[39m, show \u001b[39m=\u001b[39m \u001b[39m50\u001b[39m, goal \u001b[39m=\u001b[39m \u001b[39m0.01\u001b[39m)\n\u001b[0;32m      <a href='vscode-notebook-cell:/d%3A/Users/Desktop/im_a_folder/Perso/Prog/C%23/CatGenerator/main.ipynb#W5sZmlsZQ%3D%3D?line=3'>4</a>\u001b[0m \u001b[39m\"\"\"\u001b[39;00m\n\u001b[0;32m      <a href='vscode-notebook-cell:/d%3A/Users/Desktop/im_a_folder/Perso/Prog/C%23/CatGenerator/main.ipynb#W5sZmlsZQ%3D%3D?line=4'>5</a>\u001b[0m \u001b[39mdataSet = LoadDataSet(\"Cats/noisy/88%/\", \"Cats/pixellized/\", 10)\u001b[39;00m\n\u001b[0;32m      <a href='vscode-notebook-cell:/d%3A/Users/Desktop/im_a_folder/Perso/Prog/C%23/CatGenerator/main.ipynb#W5sZmlsZQ%3D%3D?line=5'>6</a>\u001b[0m \n\u001b[1;32m   (...)\u001b[0m\n\u001b[0;32m      <a href='vscode-notebook-cell:/d%3A/Users/Desktop/im_a_folder/Perso/Prog/C%23/CatGenerator/main.ipynb#W5sZmlsZQ%3D%3D?line=8'>9</a>\u001b[0m \u001b[39m    dataSet.target[i] = dataSet.target[i][0 : nbEntriesAndOutput]\u001b[39;00m\n\u001b[0;32m     <a href='vscode-notebook-cell:/d%3A/Users/Desktop/im_a_folder/Perso/Prog/C%23/CatGenerator/main.ipynb#W5sZmlsZQ%3D%3D?line=9'>10</a>\u001b[0m \u001b[39m\"\"\"\u001b[39;00m\n\u001b[1;32m---> <a href='vscode-notebook-cell:/d%3A/Users/Desktop/im_a_folder/Perso/Prog/C%23/CatGenerator/main.ipynb#W5sZmlsZQ%3D%3D?line=10'>11</a>\u001b[0m err \u001b[39m=\u001b[39m Train(dataSet)\n\u001b[0;32m     <a href='vscode-notebook-cell:/d%3A/Users/Desktop/im_a_folder/Perso/Prog/C%23/CatGenerator/main.ipynb#W5sZmlsZQ%3D%3D?line=12'>13</a>\u001b[0m PlotError(err)\n",
      "\u001b[1;32md:\\Users\\Desktop\\im_a_folder\\Perso\\Prog\\C#\\CatGenerator\\main.ipynb Cell 6\u001b[0m in \u001b[0;36mTrain\u001b[1;34m(dataset)\u001b[0m\n\u001b[0;32m      <a href='vscode-notebook-cell:/d%3A/Users/Desktop/im_a_folder/Perso/Prog/C%23/CatGenerator/main.ipynb#W5sZmlsZQ%3D%3D?line=0'>1</a>\u001b[0m \u001b[39mdef\u001b[39;00m \u001b[39mTrain\u001b[39m(dataset):\n\u001b[1;32m----> <a href='vscode-notebook-cell:/d%3A/Users/Desktop/im_a_folder/Perso/Prog/C%23/CatGenerator/main.ipynb#W5sZmlsZQ%3D%3D?line=1'>2</a>\u001b[0m     \u001b[39mreturn\u001b[39;00m net\u001b[39m.\u001b[39;49mtrain(dataSet\u001b[39m.\u001b[39;49mdata, dataSet\u001b[39m.\u001b[39;49mtarget,epochs \u001b[39m=\u001b[39;49m \u001b[39m500\u001b[39;49m, show \u001b[39m=\u001b[39;49m \u001b[39m50\u001b[39;49m, goal \u001b[39m=\u001b[39;49m \u001b[39m0.01\u001b[39;49m)\n",
      "File \u001b[1;32mc:\\Users\\leona\\AppData\\Local\\Programs\\Python\\Python310\\lib\\site-packages\\neurolab\\core.py:165\u001b[0m, in \u001b[0;36mNet.train\u001b[1;34m(self, *args, **kwargs)\u001b[0m\n\u001b[0;32m    159\u001b[0m \u001b[39mdef\u001b[39;00m \u001b[39mtrain\u001b[39m(\u001b[39mself\u001b[39m, \u001b[39m*\u001b[39margs, \u001b[39m*\u001b[39m\u001b[39m*\u001b[39mkwargs):\n\u001b[0;32m    160\u001b[0m     \u001b[39m\"\"\"\u001b[39;00m\n\u001b[0;32m    161\u001b[0m \u001b[39m    Train network\u001b[39;00m\n\u001b[0;32m    162\u001b[0m \u001b[39m    see net.trainf.__doc__\u001b[39;00m\n\u001b[0;32m    163\u001b[0m \n\u001b[0;32m    164\u001b[0m \u001b[39m    \"\"\"\u001b[39;00m\n\u001b[1;32m--> 165\u001b[0m     \u001b[39mreturn\u001b[39;00m \u001b[39mself\u001b[39m\u001b[39m.\u001b[39mtrainf(\u001b[39mself\u001b[39m, \u001b[39m*\u001b[39margs, \u001b[39m*\u001b[39m\u001b[39m*\u001b[39mkwargs)\n",
      "File \u001b[1;32mc:\\Users\\leona\\AppData\\Local\\Programs\\Python\\Python310\\lib\\site-packages\\neurolab\\core.py:349\u001b[0m, in \u001b[0;36mTrainer.__call__\u001b[1;34m(self, net, input, target, **kwargs)\u001b[0m\n\u001b[0;32m    347\u001b[0m \u001b[39mself\u001b[39m\u001b[39m.\u001b[39merror \u001b[39m=\u001b[39m []\n\u001b[0;32m    348\u001b[0m \u001b[39mtry\u001b[39;00m:\n\u001b[1;32m--> 349\u001b[0m     train(net, \u001b[39m*\u001b[39;49margs)\n\u001b[0;32m    350\u001b[0m \u001b[39mexcept\u001b[39;00m TrainStop \u001b[39mas\u001b[39;00m msg:\n\u001b[0;32m    351\u001b[0m     \u001b[39mif\u001b[39;00m \u001b[39mself\u001b[39m\u001b[39m.\u001b[39mparams[\u001b[39m'\u001b[39m\u001b[39mshow\u001b[39m\u001b[39m'\u001b[39m]:\n",
      "File \u001b[1;32mc:\\Users\\leona\\AppData\\Local\\Programs\\Python\\Python310\\lib\\site-packages\\neurolab\\train\\spo.py:78\u001b[0m, in \u001b[0;36mTrainBFGS.__call__\u001b[1;34m(self, net, input, target)\u001b[0m\n\u001b[0;32m     75\u001b[0m     \u001b[39mself\u001b[39m\u001b[39m.\u001b[39mkwargs[\u001b[39m'\u001b[39m\u001b[39mdisp\u001b[39m\u001b[39m'\u001b[39m] \u001b[39m=\u001b[39m \u001b[39m0\u001b[39m\n\u001b[0;32m     76\u001b[0m \u001b[39mself\u001b[39m\u001b[39m.\u001b[39mkwargs[\u001b[39m'\u001b[39m\u001b[39mmaxiter\u001b[39m\u001b[39m'\u001b[39m] \u001b[39m=\u001b[39m \u001b[39mself\u001b[39m\u001b[39m.\u001b[39mepochs\n\u001b[1;32m---> 78\u001b[0m x \u001b[39m=\u001b[39m fmin_bfgs(\u001b[39mself\u001b[39m\u001b[39m.\u001b[39mfcn, \u001b[39mself\u001b[39m\u001b[39m.\u001b[39mx\u001b[39m.\u001b[39mcopy(), fprime\u001b[39m=\u001b[39m\u001b[39mself\u001b[39m\u001b[39m.\u001b[39mgrad, callback\u001b[39m=\u001b[39m\u001b[39mself\u001b[39m\u001b[39m.\u001b[39mstep,\n\u001b[0;32m     79\u001b[0m               \u001b[39m*\u001b[39m\u001b[39m*\u001b[39m\u001b[39mself\u001b[39m\u001b[39m.\u001b[39mkwargs)\n\u001b[0;32m     80\u001b[0m \u001b[39mself\u001b[39m\u001b[39m.\u001b[39mx[:] \u001b[39m=\u001b[39m x\n",
      "File \u001b[1;32mc:\\Users\\leona\\AppData\\Local\\Programs\\Python\\Python310\\lib\\site-packages\\scipy\\optimize\\_optimize.py:1238\u001b[0m, in \u001b[0;36mfmin_bfgs\u001b[1;34m(f, x0, fprime, args, gtol, norm, epsilon, maxiter, full_output, disp, retall, callback)\u001b[0m\n\u001b[0;32m   1132\u001b[0m \u001b[39m\"\"\"\u001b[39;00m\n\u001b[0;32m   1133\u001b[0m \u001b[39mMinimize a function using the BFGS algorithm.\u001b[39;00m\n\u001b[0;32m   1134\u001b[0m \n\u001b[1;32m   (...)\u001b[0m\n\u001b[0;32m   1229\u001b[0m \n\u001b[0;32m   1230\u001b[0m \u001b[39m\"\"\"\u001b[39;00m\n\u001b[0;32m   1231\u001b[0m opts \u001b[39m=\u001b[39m {\u001b[39m'\u001b[39m\u001b[39mgtol\u001b[39m\u001b[39m'\u001b[39m: gtol,\n\u001b[0;32m   1232\u001b[0m         \u001b[39m'\u001b[39m\u001b[39mnorm\u001b[39m\u001b[39m'\u001b[39m: norm,\n\u001b[0;32m   1233\u001b[0m         \u001b[39m'\u001b[39m\u001b[39meps\u001b[39m\u001b[39m'\u001b[39m: epsilon,\n\u001b[0;32m   1234\u001b[0m         \u001b[39m'\u001b[39m\u001b[39mdisp\u001b[39m\u001b[39m'\u001b[39m: disp,\n\u001b[0;32m   1235\u001b[0m         \u001b[39m'\u001b[39m\u001b[39mmaxiter\u001b[39m\u001b[39m'\u001b[39m: maxiter,\n\u001b[0;32m   1236\u001b[0m         \u001b[39m'\u001b[39m\u001b[39mreturn_all\u001b[39m\u001b[39m'\u001b[39m: retall}\n\u001b[1;32m-> 1238\u001b[0m res \u001b[39m=\u001b[39m _minimize_bfgs(f, x0, args, fprime, callback\u001b[39m=\u001b[39mcallback, \u001b[39m*\u001b[39m\u001b[39m*\u001b[39mopts)\n\u001b[0;32m   1240\u001b[0m \u001b[39mif\u001b[39;00m full_output:\n\u001b[0;32m   1241\u001b[0m     retlist \u001b[39m=\u001b[39m (res[\u001b[39m'\u001b[39m\u001b[39mx\u001b[39m\u001b[39m'\u001b[39m], res[\u001b[39m'\u001b[39m\u001b[39mfun\u001b[39m\u001b[39m'\u001b[39m], res[\u001b[39m'\u001b[39m\u001b[39mjac\u001b[39m\u001b[39m'\u001b[39m], res[\u001b[39m'\u001b[39m\u001b[39mhess_inv\u001b[39m\u001b[39m'\u001b[39m],\n\u001b[0;32m   1242\u001b[0m                res[\u001b[39m'\u001b[39m\u001b[39mnfev\u001b[39m\u001b[39m'\u001b[39m], res[\u001b[39m'\u001b[39m\u001b[39mnjev\u001b[39m\u001b[39m'\u001b[39m], res[\u001b[39m'\u001b[39m\u001b[39mstatus\u001b[39m\u001b[39m'\u001b[39m])\n",
      "File \u001b[1;32mc:\\Users\\leona\\AppData\\Local\\Programs\\Python\\Python310\\lib\\site-packages\\scipy\\optimize\\_optimize.py:1307\u001b[0m, in \u001b[0;36m_minimize_bfgs\u001b[1;34m(fun, x0, args, jac, callback, gtol, norm, eps, maxiter, disp, return_all, finite_diff_rel_step, **unknown_options)\u001b[0m\n\u001b[0;32m   1305\u001b[0m k \u001b[39m=\u001b[39m \u001b[39m0\u001b[39m\n\u001b[0;32m   1306\u001b[0m N \u001b[39m=\u001b[39m \u001b[39mlen\u001b[39m(x0)\n\u001b[1;32m-> 1307\u001b[0m I \u001b[39m=\u001b[39m np\u001b[39m.\u001b[39;49meye(N, dtype\u001b[39m=\u001b[39;49m\u001b[39mint\u001b[39;49m)\n\u001b[0;32m   1308\u001b[0m Hk \u001b[39m=\u001b[39m I\n\u001b[0;32m   1310\u001b[0m \u001b[39m# Sets the initial step guess to dx ~ 1\u001b[39;00m\n",
      "File \u001b[1;32mc:\\Users\\leona\\AppData\\Local\\Programs\\Python\\Python310\\lib\\site-packages\\numpy\\lib\\twodim_base.py:214\u001b[0m, in \u001b[0;36meye\u001b[1;34m(N, M, k, dtype, order, like)\u001b[0m\n\u001b[0;32m    212\u001b[0m \u001b[39mif\u001b[39;00m M \u001b[39mis\u001b[39;00m \u001b[39mNone\u001b[39;00m:\n\u001b[0;32m    213\u001b[0m     M \u001b[39m=\u001b[39m N\n\u001b[1;32m--> 214\u001b[0m m \u001b[39m=\u001b[39m zeros((N, M), dtype\u001b[39m=\u001b[39;49mdtype, order\u001b[39m=\u001b[39;49morder)\n\u001b[0;32m    215\u001b[0m \u001b[39mif\u001b[39;00m k \u001b[39m>\u001b[39m\u001b[39m=\u001b[39m M:\n\u001b[0;32m    216\u001b[0m     \u001b[39mreturn\u001b[39;00m m\n",
      "\u001b[1;31mMemoryError\u001b[0m: Unable to allocate 35.2 GiB for an array with shape (97167, 97167) and data type int32"
     ]
    }
   ],
   "source": [
    "def Train(dataset):\n",
    "    return net.train(dataSet.data, dataSet.target,epochs = 500, show = 50, goal = 0.01)\n",
    "\n",
    "\"\"\"\n",
    "dataSet = LoadDataSet(\"Cats/noisy/88%/\", \"Cats/pixellized/\", 10)\n",
    "\n",
    "for i in range(0, len(dataSet.data)):\n",
    "    dataSet.data[i] = dataSet.data[i][0 : nbEntriesAndOutput]\n",
    "    dataSet.target[i] = dataSet.target[i][0 : nbEntriesAndOutput]\n",
    "\"\"\"\n",
    "err = Train(dataSet)\n",
    "\n",
    "PlotError(err)"
   ]
  }
 ],
 "metadata": {
  "kernelspec": {
   "display_name": "Python 3",
   "language": "python",
   "name": "python3"
  },
  "language_info": {
   "codemirror_mode": {
    "name": "ipython",
    "version": 3
   },
   "file_extension": ".py",
   "mimetype": "text/x-python",
   "name": "python",
   "nbconvert_exporter": "python",
   "pygments_lexer": "ipython3",
   "version": "3.10.2"
  },
  "orig_nbformat": 4,
  "vscode": {
   "interpreter": {
    "hash": "9be826744cc5714b462ad0c8de88bfa6f016a48973c6317b9546595d1685cabb"
   }
  }
 },
 "nbformat": 4,
 "nbformat_minor": 2
}
